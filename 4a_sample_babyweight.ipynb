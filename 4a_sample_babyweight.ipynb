{
  "nbformat": 4,
  "nbformat_minor": 0,
  "metadata": {
    "colab": {
      "name": "4a_sample_babyweight",
      "provenance": [],
      "collapsed_sections": [],
      "authorship_tag": "ABX9TyM1C2lIZ/HwoJaIWJCn7URg",
      "include_colab_link": true
    },
    "kernelspec": {
      "name": "python3",
      "display_name": "Python 3"
    }
  },
  "cells": [
    {
      "cell_type": "markdown",
      "metadata": {
        "id": "view-in-github",
        "colab_type": "text"
      },
      "source": [
        "<a href=\"https://colab.research.google.com/github/canislatranscoxus/gcp_ml_certification/blob/master/4a_sample_babyweight.ipynb\" target=\"_parent\"><img src=\"https://colab.research.google.com/assets/colab-badge.svg\" alt=\"Open In Colab\"/></a>"
      ]
    },
    {
      "cell_type": "markdown",
      "metadata": {
        "id": "55XVlIF4uzIw"
      },
      "source": [
        "# Babyweight - sample data.\n",
        "\n",
        "Canis notes.\n",
        "\n",
        "this is my practice notebook, using as a reference\n",
        "\n",
        "https://github.com/GoogleCloudPlatform/training-data-analyst/blob/master/courses/machine_learning/deepdive2/structured/solutions/4a_sample_babyweight.ipynb"
      ]
    },
    {
      "cell_type": "markdown",
      "metadata": {
        "id": "wW0X19C1wE1o"
      },
      "source": [
        "### import libraries"
      ]
    },
    {
      "cell_type": "code",
      "metadata": {
        "colab": {
          "base_uri": "https://localhost:8080/"
        },
        "id": "36YQGdCxwmtF",
        "outputId": "60c97689-3d08-4127-8c4a-dd13012536dd"
      },
      "source": [
        "%%bash\n",
        "sudo pip freeze | grep google-cloud-bigquery"
      ],
      "execution_count": 3,
      "outputs": [
        {
          "output_type": "stream",
          "text": [
            "google-cloud-bigquery==1.21.0\n",
            "google-cloud-bigquery-storage==1.1.0\n"
          ],
          "name": "stdout"
        }
      ]
    },
    {
      "cell_type": "code",
      "metadata": {
        "id": "X9LgMk-MuxBR"
      },
      "source": [
        "from google.cloud import bigquery\n",
        "import pandas as pd\n"
      ],
      "execution_count": 2,
      "outputs": []
    },
    {
      "cell_type": "code",
      "metadata": {
        "colab": {
          "base_uri": "https://localhost:8080/"
        },
        "id": "pszwWzXCww6d",
        "outputId": "a0222061-64db-490a-c559-ac1ec4f689d8"
      },
      "source": [
        "%%bash\n",
        "export PROJECT=$(gcloud config list project --format \"value(core.project)\")\n",
        "echo \"Your current GCP Project Name is: \"$PROJECT"
      ],
      "execution_count": 4,
      "outputs": [
        {
          "output_type": "stream",
          "text": [
            "Your current GCP Project Name is: \n"
          ],
          "name": "stdout"
        }
      ]
    },
    {
      "cell_type": "code",
      "metadata": {
        "id": "_kgRj7bTwQuH"
      },
      "source": [
        "PROJECT = \"my_project\"  # Replace with your PROJECT"
      ],
      "execution_count": 5,
      "outputs": []
    },
    {
      "cell_type": "code",
      "metadata": {
        "id": "WbKRzI75w-dA"
      },
      "source": [
        ""
      ],
      "execution_count": null,
      "outputs": []
    },
    {
      "cell_type": "markdown",
      "metadata": {
        "id": "d7ChT6UGxZ1p"
      },
      "source": [
        "### declare some variables"
      ]
    },
    {
      "cell_type": "code",
      "metadata": {
        "colab": {
          "base_uri": "https://localhost:8080/"
        },
        "id": "92gKiYb2xd-g",
        "outputId": "7bc9fdc7-74e5-4185-849d-0bdff5fb7f50"
      },
      "source": [
        "modulo_divisor = 10\n",
        "train_percent  = 8\n",
        "eval_percent   = 1\n",
        "\n",
        "\n",
        "print( 'modulo_divisor: {}'.format( modulo_divisor ) )\n",
        "print( 'train_percent : {}'.format( train_percent  ) )\n",
        "print( 'eval_percent  : {}'.format( eval_percent   ) )\n"
      ],
      "execution_count": 3,
      "outputs": [
        {
          "output_type": "stream",
          "text": [
            "modulo_divisor: 10\n",
            "train_percent : 8\n",
            "eval_percent  : 1\n"
          ],
          "name": "stdout"
        }
      ]
    },
    {
      "cell_type": "code",
      "metadata": {
        "id": "zIIBUxnftjkf"
      },
      "source": [
        "# COLUMNS\n",
        "\n",
        "\n",
        "source_year\n",
        "year\n",
        "month\n",
        "day\n",
        "wday\n",
        "state\n",
        "is_male\n",
        "child_race\n",
        "weight_pounds\n",
        "plurality\n",
        "apgar_1min\n",
        "apgar_5min\n",
        "mother_residence_state\n",
        "mother_race\n",
        "mother_age\n",
        "gestation_weeks\n",
        "lmp\n",
        "mother_married\n",
        "mother_birth_state\n",
        "cigarette_use\n",
        "cigarettes_per_day\n",
        "alcohol_use\n",
        "drinks_per_week\n",
        "weight_gain_pounds\n",
        "born_alive_alive\n",
        "born_alive_dead\n",
        "born_dead\n",
        "ever_born\n",
        "father_race\n",
        "father_age\n",
        "record_weight"
      ],
      "execution_count": null,
      "outputs": []
    },
    {
      "cell_type": "markdown",
      "metadata": {
        "id": "ffVo0imb-Ods"
      },
      "source": [
        "### recipe for splitting is\n",
        "80 % training\n",
        "\n",
        "\n",
        "10 % eval\n",
        "\n",
        "10 % test"
      ]
    },
    {
      "cell_type": "code",
      "metadata": {
        "id": "kQI9m5h6992c"
      },
      "source": [
        "training_query = '''\n",
        "SELECT *\n",
        "FROM table\n",
        "WHERE\n",
        "      abs( mod( farm_fingerprint( cast( my_date_column as string) ) ) ) < 8\n",
        "'''\n",
        "\n",
        "test_query = '''\n",
        "SELECT *\n",
        "FROM table\n",
        "WHERE\n",
        "      abs( mod( farm_fingerprint( cast( my_date_column as string) ) ) ) = 8\n",
        "'''\n",
        "\n"
      ],
      "execution_count": 4,
      "outputs": []
    },
    {
      "cell_type": "code",
      "metadata": {
        "id": "VG69pNnwxex2"
      },
      "source": [
        "sql_base = ''' WITH babyweight AS\n",
        "SELECT \n",
        "    weight_pounds,\n",
        "    is_male,\n",
        "    mother_age,\n",
        "    plurality,\n",
        "    gestation_weeks,\n",
        "    FARM_FINGERPRINT(\n",
        "        CONCAT(\n",
        "            CAST(year  AS STRING),\n",
        "            CAST(month AS STRING),\n",
        "            CAST(date  AS STRING)\n",
        "        )\n",
        "    ) AS hash_values\n",
        "FROM \n",
        "      `bigquery-public-data.samples.natality`  \n",
        "WHERE \n",
        "    year                > 2000\n",
        "    AND weight_pounds   > 0\n",
        "    AND mother_age      > 0\n",
        "    AND plurality       > 0\n",
        "    AND gestation_weeks > 0\n",
        "\n",
        "SELECT *\n",
        "FROM   babyweight\n",
        "WHERE  \n",
        "       abs(mod( hash_values, {} )) \n",
        "'''.format( modulo_divisor )\n"
      ],
      "execution_count": 14,
      "outputs": []
    },
    {
      "cell_type": "code",
      "metadata": {
        "colab": {
          "base_uri": "https://localhost:8080/",
          "height": 86
        },
        "id": "DK37bx4v_91x",
        "outputId": "4854b72f-08a4-436e-825d-a2568bdb1789"
      },
      "source": [
        "sql_base"
      ],
      "execution_count": 10,
      "outputs": [
        {
          "output_type": "execute_result",
          "data": {
            "application/vnd.google.colaboratory.intrinsic+json": {
              "type": "string"
            },
            "text/plain": [
              "' WITH babyweight AS\\nSELECT \\n    weight_pounds,\\n    is_male,\\n    mother_age,\\n    plurality,\\n    gestation_weeks,\\n    FARM_FINGERPRINT(\\n        CONCAT(\\n            CAST(year  AS STRING),\\n            CAST(month AS STRING),\\n            CAST(date  AS STRING)\\n        )\\n    ) AS hash_values\\nFROM \\n      `bigquery-public-data.samples.natality`  \\nWHERE \\n    year                > 2000\\n    AND weight_pounds   > 0\\n    AND mother_age      > 0\\n    AND plurality       > 0\\n    AND gestation_weeks > 0\\n\\nSELECT *\\nFROM   babyweight\\nWHERE  \\n       abs(mod( hash_values, 10 )) \\n'"
            ]
          },
          "metadata": {
            "tags": []
          },
          "execution_count": 10
        }
      ]
    },
    {
      "cell_type": "code",
      "metadata": {
        "id": "NAST2l9axhLO"
      },
      "source": [
        "sql_train = '{sql_base} < {train_percent} '.format( sql_base=sql_base, train_percent=train_percent )\n",
        "sql_eval  = '{sql_base} = {train_percent} '.format( sql_base=sql_base, train_percent=train_percent )\n"
      ],
      "execution_count": 16,
      "outputs": []
    },
    {
      "cell_type": "code",
      "metadata": {
        "colab": {
          "base_uri": "https://localhost:8080/",
          "height": 86
        },
        "id": "wRL3qhzX_lSP",
        "outputId": "f438788a-9649-4560-c715-119dc471c4a7"
      },
      "source": [
        "sql_train\n",
        "\n"
      ],
      "execution_count": 17,
      "outputs": [
        {
          "output_type": "execute_result",
          "data": {
            "application/vnd.google.colaboratory.intrinsic+json": {
              "type": "string"
            },
            "text/plain": [
              "' WITH babyweight AS\\nSELECT \\n    weight_pounds,\\n    is_male,\\n    mother_age,\\n    plurality,\\n    gestation_weeks,\\n    FARM_FINGERPRINT(\\n        CONCAT(\\n            CAST(year  AS STRING),\\n            CAST(month AS STRING),\\n            CAST(date  AS STRING)\\n        )\\n    ) AS hash_values\\nFROM \\n      `bigquery-public-data.samples.natality`  \\nWHERE \\n    year                > 2000\\n    AND weight_pounds   > 0\\n    AND mother_age      > 0\\n    AND plurality       > 0\\n    AND gestation_weeks > 0\\n\\nSELECT *\\nFROM   babyweight\\nWHERE  \\n       abs(mod( hash_values, 10 )) \\n < 8 '"
            ]
          },
          "metadata": {
            "tags": []
          },
          "execution_count": 17
        }
      ]
    },
    {
      "cell_type": "markdown",
      "metadata": {
        "id": "o5iBHMbtA4HO"
      },
      "source": [
        "### export from BigQuery to Dataframe"
      ]
    },
    {
      "cell_type": "code",
      "metadata": {
        "id": "WhdI6830AgQI"
      },
      "source": [
        "df_train = bg.query( sql_train ).to_dataframe()\n",
        "df_eval  = bq.query( sql_eval  ).to_dataframe()\n"
      ],
      "execution_count": null,
      "outputs": []
    },
    {
      "cell_type": "code",
      "metadata": {
        "id": "Xrqf5S2oBl7C"
      },
      "source": [
        ""
      ],
      "execution_count": null,
      "outputs": []
    }
  ]
}